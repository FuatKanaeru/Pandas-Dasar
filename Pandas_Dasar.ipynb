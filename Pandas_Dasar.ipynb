{
 "cells": [
  {
   "cell_type": "markdown",
   "id": "90d0e0be-4cad-43a2-8606-cd8163fb1321",
   "metadata": {},
   "source": [
    "# PANDAS"
   ]
  },
  {
   "cell_type": "markdown",
   "id": "067576f5-852a-4e64-8bdc-364532720e8a",
   "metadata": {},
   "source": [
    "## Pandas adalah library Python yang digunakan untuk mengolah dan menganalisis data "
   ]
  },
  {
   "cell_type": "code",
   "execution_count": null,
   "id": "d05665e1-9e20-4702-ae6e-40f711864016",
   "metadata": {},
   "outputs": [],
   "source": [
    "#import libray pandas dengan aslias 'pd' atau bebas\n",
    "import pandas as pd"
   ]
  },
  {
   "cell_type": "markdown",
   "id": "adca5e99-5a0f-49c1-a945-8b8277d678ad",
   "metadata": {},
   "source": [
    "# Series dan DataFrame"
   ]
  },
  {
   "cell_type": "markdown",
   "id": "c955dd7a-e390-4365-bf4a-d8869722c287",
   "metadata": {},
   "source": [
    "## Series\n",
    "### Series itu satu kolom data sepert array(1D) dimensi yangg punya label/index"
   ]
  },
  {
   "cell_type": "code",
   "execution_count": null,
   "id": "db134b24-29e9-4129-aaa1-c7d3ea059850",
   "metadata": {},
   "outputs": [],
   "source": [
    "data_series = pd.Series([1,2,3,4,5]) #buat data series dengan pd.Series yang berisi nilai [1,2,3,4,5] yang tertampung dalam variable 'data_series'\n",
    "data_series #eksekusi. akan tampil satu kolom dengan index 0-4. index dimulai dari 0 ya, bukan dari satu.\n",
    "#angka dikiri adalah index, dan angka dikanan adalah nilai yang baru dibuat"
   ]
  },
  {
   "cell_type": "markdown",
   "id": "7decd229-cc6d-4539-a41a-a69ffa9cf582",
   "metadata": {},
   "source": [
    "### Mengubah index dengan key string/huruf"
   ]
  },
  {
   "cell_type": "code",
   "execution_count": null,
   "id": "32ab0f28-6b66-4083-a879-3383b0049d16",
   "metadata": {},
   "outputs": [],
   "source": [
    "#Menggunakan Index\n",
    "Dengan_index = pd.Series([10,20,30,40,50], index = ['Satu','Dua','Tiga','Empat','Lima']) #mengubah index dengan parameter index\n",
    "Dengan_index\n",
    "#index dan data series harus sesuasi tidak boleh lebih/kurang"
   ]
  },
  {
   "cell_type": "code",
   "execution_count": null,
   "id": "5b779bd3-7043-4150-a99f-6c71a949333c",
   "metadata": {},
   "outputs": [],
   "source": [
    "#Menggunakan Dictionary\n",
    "Dengan_dict = pd.Series({101:'Amton',102:'Santi',103:'Lita'}) #index=key dan value=nilai\n",
    "Dengan_dict\n",
    "#type datanya object bukan int, karena  menggunakan dictionary"
   ]
  },
  {
   "cell_type": "markdown",
   "id": "0e07b598-3343-452e-acee-1999b2054e07",
   "metadata": {},
   "source": [
    "## DataFrame\n",
    "### dataframe adalah sebuah tabel 2D terdiri dari baris dan kolom"
   ]
  },
  {
   "cell_type": "code",
   "execution_count": null,
   "id": "c36305ed-e5e9-4d3e-bfd0-cf15e3d5c60e",
   "metadata": {},
   "outputs": [],
   "source": [
    "#dataframe bisa dibuat dengan dictionary ataupun list\n",
    "#paling umu digunakan adalah dictionary to list\n",
    "data1 = {\n",
    "    'NIM':[101,102,103,104,105],\n",
    "    'Nama':['Andi','Jaka','Nila','Susan','Dayat']\n",
    "}\n",
    "\n",
    "data_frame = pd.DataFrame(data1)\n",
    "data_frame\n",
    "#terbentuk 2 kolom 5 baris"
   ]
  },
  {
   "cell_type": "code",
   "execution_count": null,
   "id": "d60e09e3-3873-4ccc-8843-d85f61adb653",
   "metadata": {},
   "outputs": [],
   "source": [
    "#contoh, buat data frame dengan list\n",
    "data2 = pd.DataFrame([\n",
    "    [1,2,3,4],\n",
    "    [5,6,7,8],\n",
    "    [9,10,11,12],\n",
    "    [13,14,15,16],\n",
    "    [17,18,19,20]\n",
    "])\n",
    "data2\n",
    "#terbuat 5 baris 4 kolom\n",
    "#ada index baris dan kolom"
   ]
  },
  {
   "cell_type": "markdown",
   "id": "69f1f47f-14af-4f6e-993c-88f922024886",
   "metadata": {},
   "source": [
    "### Mengubah index baris/kolom dengan key/string"
   ]
  },
  {
   "cell_type": "code",
   "execution_count": null,
   "id": "c67ce17d-7e86-40fc-93d4-65fdb4b27a0f",
   "metadata": {},
   "outputs": [],
   "source": [
    "data3 = pd.DataFrame([\n",
    "    [1,2,3,4],\n",
    "    [5,6,7,8],\n",
    "    [9,10,11,12],\n",
    "    [13,14,15,16],\n",
    "    [17,18,19,20]],\n",
    "    index=['a','b','c','d','e'], columns=['A','B','C','D']\n",
    ")\n",
    "\n",
    "data3\n",
    "#index yang dikiri\n",
    "#index columns yang diatas"
   ]
  },
  {
   "cell_type": "markdown",
   "id": "ace9e631-1a24-4355-9047-b16485445abc",
   "metadata": {},
   "source": [
    "# Properti dasar DataFrame"
   ]
  },
  {
   "cell_type": "markdown",
   "id": "91c431ac-5e6e-4b4f-8a09-254f2ae00fce",
   "metadata": {},
   "source": [
    "properti atau informasi dari dataframe"
   ]
  },
  {
   "cell_type": "code",
   "execution_count": null,
   "id": "c0b63908-8fc0-4158-9264-ea13e5c53df2",
   "metadata": {},
   "outputs": [],
   "source": [
    "df = pd.DataFrame({\n",
    "    'Nama':['Anto','Bayu','Cika','Deny','Eka','Faizun','Gauz','Hikmah','Ijal'],\n",
    "    'Umur':[21,10,19,22,12,40,32,12,20],\n",
    "    'Asal':['Dompu','Bali','Lombok','Jawa','Makasar','Jakarta','Bandung','Lombok','Surabaya']\n",
    "})"
   ]
  },
  {
   "cell_type": "code",
   "execution_count": null,
   "id": "07c947e3-645d-4d5e-a6b2-397e51c6f12f",
   "metadata": {},
   "outputs": [],
   "source": [
    "#.shape\n",
    "df.shape #cek baris dan kolom"
   ]
  },
  {
   "cell_type": "code",
   "execution_count": null,
   "id": "d1e2c73e-6f51-4601-bdb5-df1083521bae",
   "metadata": {},
   "outputs": [],
   "source": [
    "#.head()\n",
    "\n",
    "df.head(3) #liat data dari atas sebanyak 3. jika tanpa dalam kurung akan otomatis tampil 5 data"
   ]
  },
  {
   "cell_type": "code",
   "execution_count": null,
   "id": "d24257d2-6b15-4686-85ce-c4eb750dc64f",
   "metadata": {},
   "outputs": [],
   "source": [
    "#.tail\n",
    "df.tail(4) #sama seperti head. tapi ini dari bawah/terakhir"
   ]
  },
  {
   "cell_type": "code",
   "execution_count": null,
   "id": "376e461d-4f5b-42dd-99a7-01b7c3ff89ab",
   "metadata": {},
   "outputs": [],
   "source": [
    "#.info()\n",
    "df.info() #informasi dari data"
   ]
  },
  {
   "cell_type": "code",
   "execution_count": null,
   "id": "85a7877c-7095-42d5-a0d8-451a156257ee",
   "metadata": {},
   "outputs": [],
   "source": [
    "#.describe\n",
    "df.describe() #lihat statistik deskriptif data, seperti min, max, mean dll"
   ]
  },
  {
   "cell_type": "code",
   "execution_count": null,
   "id": "78018193-b138-40de-ba36-2c7f0ae26aa7",
   "metadata": {},
   "outputs": [],
   "source": [
    "df.index #cek index\n",
    "#karena indexnya default jadi mulai=0 sampai=9 step=1"
   ]
  },
  {
   "cell_type": "code",
   "execution_count": null,
   "id": "50c09fd2-9cef-41d4-a86a-63e98c92b7c7",
   "metadata": {},
   "outputs": [],
   "source": [
    "df.columns #cek kolom"
   ]
  },
  {
   "cell_type": "code",
   "execution_count": null,
   "id": "30522c76-3868-4baa-ab55-4ff1b6fc2c99",
   "metadata": {},
   "outputs": [],
   "source": [
    "df.dtypes #cek type data"
   ]
  },
  {
   "cell_type": "markdown",
   "id": "b93b6857-6c21-44be-a82e-a2dae12c8d88",
   "metadata": {},
   "source": [
    "# Operasi umum DataFrame\n",
    "## Akses kolom"
   ]
  },
  {
   "cell_type": "code",
   "execution_count": null,
   "id": "b54ccf8f-8035-4278-9493-611d3c62fb0a",
   "metadata": {},
   "outputs": [],
   "source": [
    "df"
   ]
  },
  {
   "cell_type": "code",
   "execution_count": null,
   "id": "69aa7d45-93f3-4123-836e-19d44ec680b5",
   "metadata": {},
   "outputs": [],
   "source": [
    "#akses kolom\n",
    "#satu kolom\n",
    "df['Nama']"
   ]
  },
  {
   "cell_type": "code",
   "execution_count": null,
   "id": "5285e3d3-7989-4db2-b5fd-1ed1dc4eddc4",
   "metadata": {},
   "outputs": [],
   "source": [
    "#lebih dari 1 kolom\n",
    "df[['Nama','Umur']] #jika akses lebih dari 1, gunakan 2 kurung siku"
   ]
  },
  {
   "cell_type": "markdown",
   "id": "54eca84a-8f9b-4089-a990-4846371e2089",
   "metadata": {},
   "source": [
    "# Mengenal loc dan iloc"
   ]
  },
  {
   "cell_type": "markdown",
   "id": "4c0170b8-b6ba-48dd-a3f1-bf3334136b12",
   "metadata": {},
   "source": [
    "#### loc digunakan untuk akses label/index/baris/kolom\n",
    "#### iloc digunakan untuk akses angka urutan"
   ]
  },
  {
   "cell_type": "markdown",
   "id": "16e321c7-1d30-4540-b6af-de94d7ab412d",
   "metadata": {},
   "source": [
    "## loc\n",
    "#### perlu diingat untuk akses baris dulu baru kolom. jangankebalik"
   ]
  },
  {
   "cell_type": "code",
   "execution_count": null,
   "id": "6097e314-da45-4d6a-88fe-4ea96287c466",
   "metadata": {},
   "outputs": [],
   "source": [
    "df"
   ]
  },
  {
   "cell_type": "code",
   "execution_count": null,
   "id": "7669973f-db12-4b4d-ad0f-927efefbeaf2",
   "metadata": {},
   "outputs": [],
   "source": [
    "df.loc[1] #baris dari index 1"
   ]
  },
  {
   "cell_type": "code",
   "execution_count": null,
   "id": "c0310a31-a57a-4567-b82d-1eeb2a5e4397",
   "metadata": {},
   "outputs": [],
   "source": [
    "df.loc[2,'Nama'] #bari index 2 dengan kolom 'Nama'"
   ]
  },
  {
   "cell_type": "code",
   "execution_count": null,
   "id": "999fbd08-64aa-484c-9048-5f4f47c792f5",
   "metadata": {},
   "outputs": [],
   "source": [
    "df.loc[:,'Asal'] #semua baris dari kolom asal"
   ]
  },
  {
   "cell_type": "code",
   "execution_count": null,
   "id": "7eda6a71-9827-4869-8c13-7994874223b9",
   "metadata": {},
   "outputs": [],
   "source": [
    "df.loc[1:4,['Nama','Asal']] #baris index 1 sampai 4 dengan kolom Nama dan asal"
   ]
  },
  {
   "cell_type": "markdown",
   "id": "d9170bc9-af3b-4e71-bc63-265f3f06d16e",
   "metadata": {},
   "source": [
    "## iloc\n"
   ]
  },
  {
   "cell_type": "code",
   "execution_count": null,
   "id": "91c79cc7-669c-4b94-9549-437be9c8aeb9",
   "metadata": {},
   "outputs": [],
   "source": [
    "df.iloc[0] #baris index 0"
   ]
  },
  {
   "cell_type": "code",
   "execution_count": null,
   "id": "d5ce9b22-4131-450f-b0aa-28f8045b4a73",
   "metadata": {},
   "outputs": [],
   "source": [
    "df.iloc[1:3] #baris index 1 sampai sebelum 3\n",
    "#ingat index dimulai dari 0"
   ]
  },
  {
   "cell_type": "code",
   "execution_count": null,
   "id": "bde3a615-2547-4533-a732-76e81050bbdb",
   "metadata": {},
   "outputs": [],
   "source": [
    "### perbedaan loc dan iloc juga\n",
    "#### loc[1:5] ini akan akses index 1 sampai 5\n",
    "#### iloc[1:5] ini akan akses index 1 sampai sebelm 5, yaitu 4"
   ]
  },
  {
   "cell_type": "code",
   "execution_count": null,
   "id": "31683b8d-d2a6-4c37-b7a0-52eecce75a9e",
   "metadata": {},
   "outputs": [],
   "source": [
    "df.iloc[:,2] # akses semua baris kolom asal"
   ]
  },
  {
   "cell_type": "code",
   "execution_count": null,
   "id": "84b3f62f-ab75-44c7-90d0-f32ed62a8fb5",
   "metadata": {},
   "outputs": [],
   "source": [
    "#perlu diingat iloc tidak bisa diakses dengan labelnya \n",
    "#contoh\n",
    "#df.iloc[1,'Nama'] #akses baris index 1 dengan kolom nama. ini akan error\n",
    "df.iloc[1,0] #akses baris index 1, kolom index 0='Nama'"
   ]
  },
  {
   "cell_type": "code",
   "execution_count": null,
   "id": "87e8bc12-3a6e-4043-adba-05cc6dbbb38e",
   "metadata": {},
   "outputs": [],
   "source": [
    "df"
   ]
  },
  {
   "cell_type": "code",
   "execution_count": null,
   "id": "3e0c42ac-e797-46a5-b142-76b9644fc8b3",
   "metadata": {},
   "outputs": [],
   "source": [
    "df.iloc[4:7, 0:1] #akses baris 4-7 dan kolom 0-1"
   ]
  },
  {
   "cell_type": "markdown",
   "id": "73e45ca4-0fac-4fbc-aa71-ae4673ff95f5",
   "metadata": {},
   "source": [
    "# Filter / Seleksi Data"
   ]
  },
  {
   "cell_type": "code",
   "execution_count": null,
   "id": "9f508b22-7ad2-4f83-889a-ba4d229efdc7",
   "metadata": {},
   "outputs": [],
   "source": [
    "df"
   ]
  },
  {
   "cell_type": "markdown",
   "id": "18595d3a-ca0e-499b-a30d-91786c6fba90",
   "metadata": {},
   "source": [
    "## Mengenal filter 1 kondisi\n",
    "#### '<' lebih kecil\n",
    "#### '>' lebih besar\n",
    "#### '>=' lebih besar samadengan\n",
    "#### '<=' lebih besar samadengan\n",
    "#### '==' samadengan\n",
    "#### '!=' tidak samadengan"
   ]
  },
  {
   "cell_type": "code",
   "execution_count": null,
   "id": "84da2f7d-58d1-4a35-9880-3affb68bb1a7",
   "metadata": {},
   "outputs": [],
   "source": [
    "df[df['Umur'] > 20] #menampilkan data umur yang lebih dari 20\n",
    "#df['Umur'] > 20 #jika seperti ini nanti semua data akan tampil dan menalpilkan umur True dan False"
   ]
  },
  {
   "cell_type": "code",
   "execution_count": null,
   "id": "9e5018cf-2b3f-4971-91ee-4e52872d6b9a",
   "metadata": {},
   "outputs": [],
   "source": [
    "df[df['Umur'] <= 20] #lebih kecil samadengan dari 20, artinya 20 juga akan tampil"
   ]
  },
  {
   "cell_type": "code",
   "execution_count": null,
   "id": "c1cb7c1a-2707-448c-bf21-aac0db5c1ba4",
   "metadata": {},
   "outputs": [],
   "source": [
    "df[df['Asal'] == 'Jakarta'] #asal = jakarta"
   ]
  },
  {
   "cell_type": "code",
   "execution_count": null,
   "id": "ba3dd77a-40ee-42eb-87e6-2dbc416b52a2",
   "metadata": {},
   "outputs": [],
   "source": [
    "df[df['Asal'] != 'Jakarta'] #semua akan tampil kecuali asal = jakarta"
   ]
  },
  {
   "cell_type": "markdown",
   "id": "93a7ae87-9351-4872-bf88-22db64425144",
   "metadata": {},
   "source": [
    "## Mengenal filter lebih dari satu kondisi\n",
    "\n",
    "#### 'and' / '&'"
   ]
  },
  {
   "cell_type": "code",
   "execution_count": null,
   "id": "b170e22c-a0bf-4532-bcf7-d793bf07d248",
   "metadata": {},
   "outputs": [],
   "source": [
    "# Menggunakan semua kondisi harus terpenuhi &\n",
    "\n",
    "df[(df['Umur']>20) & (df['Asal']=='Jakarta')] # umur lebih dari 20 dan asal samadengan jakarta\n",
    "#ini akan tampil karena terpenuhi kedua kondisi yaitu umur dan asal"
   ]
  },
  {
   "cell_type": "code",
   "execution_count": null,
   "id": "408226df-b65b-4027-aa4a-2292ebd3f8c2",
   "metadata": {},
   "outputs": [],
   "source": [
    "df[(df['Umur']<20) & (df['Asal']=='Jakarta')]\n",
    "\n",
    "#ini tidak akan tampil  \n",
    "# Umur < 20 itu False\n",
    "# Asal = jakarta itu TRUE\n",
    "#karena ada salah satu false atau tidak terpenuhi jadi tidak akan tampil"
   ]
  },
  {
   "cell_type": "markdown",
   "id": "ee9b039e-6dc1-4514-89bb-43b74685f85f",
   "metadata": {},
   "source": [
    "#### 'or' / |"
   ]
  },
  {
   "cell_type": "code",
   "execution_count": null,
   "id": "7a0dabd3-0bf2-4626-a428-a924c2cfe05c",
   "metadata": {},
   "outputs": [],
   "source": [
    "# Menggunakan salah satu atau lebih terpenuhi |\n",
    "\n",
    "df[(df['Umur']>20) | (df['Asal']=='Jakarta')] #umur > 20 atau asal =jakarta\n",
    "\n",
    "# umur > 20 itu True\n",
    "# asal = jakarta itu False\n",
    "\n",
    "#ini akan tetap tampil\n",
    "#tapi yang tampil itu hanya yang True"
   ]
  },
  {
   "cell_type": "code",
   "execution_count": null,
   "id": "307feb04-8305-489b-b059-04d3edbd3943",
   "metadata": {},
   "outputs": [],
   "source": [
    "# contoh 3 kondisi\n",
    "df[(df['Nama']=='Cika') & (df['Umur']<=19) & (df['Asal']=='Lombok')]\n",
    "\n",
    "#nama = cika True\n",
    "#umur <=19 True\n",
    "#asal = lombok True\n",
    "\n",
    "#maka terpenuhi semuanya True\n",
    "#kalau salah satunya tidak terpenuhi maka tidak akan tampil"
   ]
  },
  {
   "cell_type": "markdown",
   "id": "4c9a5cfb-99c3-4c00-be08-c1ab89bdbc47",
   "metadata": {},
   "source": [
    "## Filter berdasarkan string / str"
   ]
  },
  {
   "cell_type": "code",
   "execution_count": null,
   "id": "b43597cf-7704-4c4f-a6d0-48daf5ea5613",
   "metadata": {},
   "outputs": [],
   "source": [
    "df[df['Nama'].str.contains('i')]\n",
    "#jadi setiap nama yang mengandung huru 'i' akan tampil"
   ]
  },
  {
   "cell_type": "code",
   "execution_count": null,
   "id": "cd3ea22c-6ba5-473e-8a3f-2f460bb6417d",
   "metadata": {},
   "outputs": [],
   "source": [
    "df[df['Asal'].str.contains('o')]\n",
    "#jadi setiap asal yang mengandung huru 'o' akan tampil"
   ]
  },
  {
   "cell_type": "code",
   "execution_count": null,
   "id": "f388e887-75ef-4eff-b6c5-b2dee3280751",
   "metadata": {},
   "outputs": [],
   "source": [
    "df"
   ]
  },
  {
   "cell_type": "markdown",
   "id": "fa48fc8b-92a1-4177-9ec9-dfde61ba42ad",
   "metadata": {},
   "source": [
    "## mengenal  isin()\n",
    "\n",
    "#### digunakan jika ingin melihat banyak nilai sekaligus dalam 1 kolom"
   ]
  },
  {
   "cell_type": "code",
   "execution_count": null,
   "id": "36fbd632-afe6-4494-a438-437379b73f60",
   "metadata": {},
   "outputs": [],
   "source": [
    "#ingin melihat semua nama yang asalnya dari lombok dan jawa\n",
    "df[df['Asal'].isin(['Lombok','Jawa'])]\n",
    "\n",
    "#jika menggunakan == untuk banyak kolom Asal seperti ini\n",
    "# \"\"\" df[df['Asal']==['Lombok','Jawa']] \"\"\"\n",
    "#tentu akan error"
   ]
  },
  {
   "cell_type": "markdown",
   "id": "63b62863-3603-4fd8-8188-97a4ba6074e0",
   "metadata": {},
   "source": [
    "# Modify Nilai, baris dan kolom"
   ]
  },
  {
   "cell_type": "code",
   "execution_count": null,
   "id": "c9e4bf5b-36a1-47c4-85bd-777fedb7fe12",
   "metadata": {},
   "outputs": [],
   "source": [
    "df"
   ]
  },
  {
   "cell_type": "markdown",
   "id": "877ac3bd-f47c-4e05-b10c-d31a00677135",
   "metadata": {},
   "source": [
    "## Ubah kolom "
   ]
  },
  {
   "cell_type": "code",
   "execution_count": null,
   "id": "c2f1e7b6-b826-466f-909d-e9232d3e2fb1",
   "metadata": {},
   "outputs": [],
   "source": [
    "df.rename(columns={'Umur':'Usia'},inplace=True) #rename untuku mengubah, dan bisa mengubah lebih dari satu kolom sekaligus"
   ]
  },
  {
   "cell_type": "code",
   "execution_count": null,
   "id": "37b98f92-cd01-41d2-bc0d-1b85bef92346",
   "metadata": {},
   "outputs": [],
   "source": [
    "df"
   ]
  },
  {
   "cell_type": "markdown",
   "id": "1a1f77ee-341b-4751-9cc5-c78fa941a618",
   "metadata": {},
   "source": [
    "## Ubah isi atau nilai pada data"
   ]
  },
  {
   "cell_type": "markdown",
   "id": "4b7366e0-46c1-4e2a-8c5c-c941894581f9",
   "metadata": {},
   "source": [
    "### ada 2 cara mengubah nilai yg saya tahu"
   ]
  },
  {
   "cell_type": "markdown",
   "id": "7d16a996-09e4-4224-99fe-f2fa6c965d63",
   "metadata": {},
   "source": [
    "#### cara pertama"
   ]
  },
  {
   "cell_type": "code",
   "execution_count": null,
   "id": "1b7e4880-422d-40a4-913f-542a98c435a3",
   "metadata": {},
   "outputs": [],
   "source": [
    "#misal mengubah Eka menjadi Ida\n",
    "df['Nama'] = df['Nama'].replace('Eka','Ida') "
   ]
  },
  {
   "cell_type": "code",
   "execution_count": null,
   "id": "8ae7df6b-a6b5-497e-aaa1-3218941fe100",
   "metadata": {},
   "outputs": [],
   "source": [
    "df"
   ]
  },
  {
   "cell_type": "markdown",
   "id": "62b26e19-11d5-4b9f-8c32-dca2bd356c82",
   "metadata": {},
   "source": [
    "#### cara ke 2"
   ]
  },
  {
   "cell_type": "code",
   "execution_count": null,
   "id": "bde8a5b0-e9f6-4959-ac36-cb928d670981",
   "metadata": {},
   "outputs": [],
   "source": [
    "# menggunakan loc\n",
    "#cara ini bisa mengubah bebrapa kolom sekaligus\n",
    "\n",
    "#pertama cari posisi ijal ada dimana\n",
    "#df['Nama'] == 'Ijal' #ok ketemu true\n",
    "#df.loc[df['Nama']=='Ijal'] #ok ketemu di index 8\n",
    "#df.loc[df['Nama']=='Ijal','Nama'] #ok ketemu lebih spesifik\n",
    "df.loc[df['Nama']=='Ijal',['Nama','Usia']] = ['Taufik',21] #dan ya karena posisinya ketemu lalu ubah nama dan usia"
   ]
  },
  {
   "cell_type": "code",
   "execution_count": null,
   "id": "b3e9c480-5bf0-4ddc-9fe7-fe627fef6cbd",
   "metadata": {},
   "outputs": [],
   "source": [
    "df"
   ]
  },
  {
   "cell_type": "markdown",
   "id": "e47773ab-5184-4648-a9ef-0600938f38a2",
   "metadata": {},
   "source": [
    "## Tambah kolom"
   ]
  },
  {
   "cell_type": "code",
   "execution_count": null,
   "id": "e02b23da-aef2-4480-a7fd-37eceff524e9",
   "metadata": {},
   "outputs": [],
   "source": [
    "df['Ket']='Sekolah' #manambah kolom 'Ket' dan value sekolah\n",
    "df"
   ]
  },
  {
   "cell_type": "code",
   "execution_count": null,
   "id": "f6b8e91a-b459-49fe-a20c-40fcc381a752",
   "metadata": {},
   "outputs": [],
   "source": [
    "#tambah kolom dan perhitungan\n",
    "df['Usia + 1'] = df['Usia']+1 #umur akan + 1\n",
    "df"
   ]
  },
  {
   "cell_type": "code",
   "execution_count": null,
   "id": "9c6b7b0d-4128-4424-a4e1-87ed6ab36fc5",
   "metadata": {},
   "outputs": [],
   "source": [
    "#jika tambah kolom dan value\n",
    "#harus sesuai dengan banyak baris\n",
    "df['Penghasilan'] = [20,40,10,40,50,20,60,30,70]\n",
    "df"
   ]
  },
  {
   "cell_type": "markdown",
   "id": "bc08d804-aaa2-407d-b34f-dbb36112ebae",
   "metadata": {},
   "source": [
    "## Tambah baris"
   ]
  },
  {
   "cell_type": "code",
   "execution_count": null,
   "id": "14f585bc-9d51-435c-9241-bf9f9c53c428",
   "metadata": {},
   "outputs": [],
   "source": [
    "df.loc[0] = ['Santi',21,'Jakarta','Sekolah',22,40]\n",
    "#ok disini yang awalnya index 0 itu adalah 'anto' dia akan tergantikan\n",
    "# jadi pastikan posisi loc itu harus benar penempatannya"
   ]
  },
  {
   "cell_type": "code",
   "execution_count": null,
   "id": "5c097daa-6f0a-49e9-9958-c0a650d94193",
   "metadata": {},
   "outputs": [],
   "source": [
    "df"
   ]
  },
  {
   "cell_type": "markdown",
   "id": "88c5caa1-ba5c-4212-88ab-30bfc28bc9a5",
   "metadata": {},
   "source": [
    "## Hapus baris atau kolom"
   ]
  },
  {
   "cell_type": "markdown",
   "id": "2735f45d-3bd9-489d-b326-7845f331b91d",
   "metadata": {},
   "source": [
    "### hapus baris"
   ]
  },
  {
   "cell_type": "code",
   "execution_count": null,
   "id": "c25a6fd0-82e0-42e5-b5b4-c06238b6358c",
   "metadata": {},
   "outputs": [],
   "source": [
    "df.drop([0], axis = 0, inplace=True) #baris index 0 terhapus\n",
    "#axis=0 itu baris\n",
    "#axis=1 itu kolom\n",
    "#inplace=True agar perubahan itu tersimpan"
   ]
  },
  {
   "cell_type": "code",
   "execution_count": null,
   "id": "0f666ad8-a6f0-4526-9ef1-71b13e420f68",
   "metadata": {},
   "outputs": [],
   "source": [
    "df"
   ]
  },
  {
   "cell_type": "markdown",
   "id": "ad6e6801-c8bb-4072-9e1c-1666899c4351",
   "metadata": {},
   "source": [
    "### hapus kolom"
   ]
  },
  {
   "cell_type": "code",
   "execution_count": null,
   "id": "4470e48f-686f-4069-9ccc-ab4c765af895",
   "metadata": {},
   "outputs": [],
   "source": [
    "df.drop('Usia + 1', axis=1, inplace=True) #ok kolom usia+1 sudah terhapsu\n",
    "#kalau ingin hapus lebih dari satu pake []"
   ]
  },
  {
   "cell_type": "code",
   "execution_count": null,
   "id": "c35ab90b-82a3-4a12-8b27-09e87b3212c9",
   "metadata": {},
   "outputs": [],
   "source": [
    "df "
   ]
  }
 ],
 "metadata": {
  "kernelspec": {
   "display_name": "Python 3 (ipykernel)",
   "language": "python",
   "name": "python3"
  },
  "language_info": {
   "codemirror_mode": {
    "name": "ipython",
    "version": 3
   },
   "file_extension": ".py",
   "mimetype": "text/x-python",
   "name": "python",
   "nbconvert_exporter": "python",
   "pygments_lexer": "ipython3",
   "version": "3.10.16"
  }
 },
 "nbformat": 4,
 "nbformat_minor": 5
}
